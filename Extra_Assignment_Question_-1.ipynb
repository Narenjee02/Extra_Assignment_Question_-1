{
 "cells": [
  {
   "cell_type": "code",
   "execution_count": 4,
   "id": "2051106b",
   "metadata": {},
   "outputs": [
    {
     "name": "stdout",
     "output_type": "stream",
     "text": [
      "Hope AI\n"
     ]
    }
   ],
   "source": [
    "print(\"Hope AI\")"
   ]
  },
  {
   "cell_type": "code",
   "execution_count": 5,
   "id": "7710587d",
   "metadata": {},
   "outputs": [
    {
     "name": "stdout",
     "output_type": "stream",
     "text": [
      "Enter your institute name:Hope AI\n"
     ]
    }
   ],
   "source": [
    "Name=(\"Enter your institute name:Hope AI\")\n",
    "print(Name)"
   ]
  },
  {
   "cell_type": "code",
   "execution_count": 3,
   "id": "83d85d52",
   "metadata": {},
   "outputs": [
    {
     "name": "stdout",
     "output_type": "stream",
     "text": [
      "Enter your name:Raj\n",
      "Enter your age:15\n",
      "Enter yout school name:Guru school\n",
      "ENter your degree:B.E CSE\n"
     ]
    }
   ],
   "source": [
    "Name=input(\"Enter your name:\")\n",
    "Age=input(\"Enter your age:\")\n",
    "School=input(\"Enter yout school name:\")\n",
    "Degree=input(\"ENter your degree:\")"
   ]
  },
  {
   "cell_type": "code",
   "execution_count": 19,
   "id": "f54317f9",
   "metadata": {},
   "outputs": [
    {
     "name": "stdout",
     "output_type": "stream",
     "text": [
      "a = 43\n",
      "b = 34\n",
      "add = 77\n"
     ]
    }
   ],
   "source": [
    "#Addition\n",
    "num1=int(input(\"a = \"))\n",
    "num2=int(input(\"b = \"))\n",
    "add=num1+num2\n",
    "print(\"add =\",add)\n"
   ]
  },
  {
   "cell_type": "code",
   "execution_count": 20,
   "id": "188a5d6a",
   "metadata": {},
   "outputs": [
    {
     "name": "stdout",
     "output_type": "stream",
     "text": [
      "a = 43\n",
      "b = 34\n",
      "Sub =  9\n"
     ]
    }
   ],
   "source": [
    "#Subtraction\n",
    "num1=int(input(\"a = \"))\n",
    "num2=int(input(\"b = \"))\n",
    "sub=num1-num2\n",
    "print(\"Sub = \",sub)"
   ]
  },
  {
   "cell_type": "code",
   "execution_count": 21,
   "id": "8f9ae6a5",
   "metadata": {},
   "outputs": [
    {
     "name": "stdout",
     "output_type": "stream",
     "text": [
      "a = 63\n",
      "b = 97\n",
      "Mul =  6111\n"
     ]
    }
   ],
   "source": [
    "#Multiplication\n",
    "#a=63\n",
    "#b=97\n",
    "num1=int(input(\"a = \"))\n",
    "num2=int(input(\"b = \"))\n",
    "mul=num1*num2\n",
    "print(\"Mul = \",mul)\n"
   ]
  },
  {
   "cell_type": "code",
   "execution_count": 22,
   "id": "1207da5e",
   "metadata": {},
   "outputs": [
    {
     "name": "stdout",
     "output_type": "stream",
     "text": [
      "a = 76\n",
      "b = 31\n",
      "Div =  2.4516129032258065\n"
     ]
    }
   ],
   "source": [
    "#Division\n",
    "#a= 76\n",
    "#b= 31\n",
    "num1=int(input(\"a = \"))\n",
    "num2=int(input(\"b = \"))\n",
    "div=num1/num2\n",
    "print(\"Div = \",div)"
   ]
  },
  {
   "cell_type": "code",
   "execution_count": 23,
   "id": "b21eaa80",
   "metadata": {},
   "outputs": [
    {
     "name": "stdout",
     "output_type": "stream",
     "text": [
      "a = 76\n",
      "b = 31\n",
      "Div =  2\n"
     ]
    }
   ],
   "source": [
    "#Floor division\n",
    "#a= 76\n",
    "#b= 31\n",
    "num1=int(input(\"a = \"))\n",
    "num2=int(input(\"b = \"))\n",
    "div=num1//num2\n",
    "print(\"Div = \",div)"
   ]
  },
  {
   "cell_type": "code",
   "execution_count": 24,
   "id": "30fecc02",
   "metadata": {},
   "outputs": [
    {
     "name": "stdout",
     "output_type": "stream",
     "text": [
      "a = 76\n",
      "b = 31\n",
      "Modulo =  14\n"
     ]
    }
   ],
   "source": [
    "#Modulo\n",
    "#a= 76\n",
    "#b= 31\n",
    "num1=int(input(\"a = \"))\n",
    "num2=int(input(\"b = \"))\n",
    "Modulo =num1%num2\n",
    "print(\"Modulo = \",Modulo)"
   ]
  },
  {
   "cell_type": "code",
   "execution_count": 27,
   "id": "e0243802",
   "metadata": {},
   "outputs": [
    {
     "name": "stdout",
     "output_type": "stream",
     "text": [
      "a = 4\n",
      "b = 4\n",
      "power =  256\n"
     ]
    }
   ],
   "source": [
    "#power\n",
    "#a= 4\n",
    "#b= 4\n",
    "num1=int(input(\"a = \"))\n",
    "num2=int(input(\"b = \"))\n",
    "power=num1**num2\n",
    "print(\"power = \",power)"
   ]
  },
  {
   "cell_type": "code",
   "execution_count": null,
   "id": "13b14f5d",
   "metadata": {},
   "outputs": [],
   "source": []
  }
 ],
 "metadata": {
  "kernelspec": {
   "display_name": "Python 3 (ipykernel)",
   "language": "python",
   "name": "python3"
  },
  "language_info": {
   "codemirror_mode": {
    "name": "ipython",
    "version": 3
   },
   "file_extension": ".py",
   "mimetype": "text/x-python",
   "name": "python",
   "nbconvert_exporter": "python",
   "pygments_lexer": "ipython3",
   "version": "3.11.5"
  }
 },
 "nbformat": 4,
 "nbformat_minor": 5
}
